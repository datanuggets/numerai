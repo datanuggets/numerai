{
 "cells": [
  {
   "cell_type": "code",
   "execution_count": 1,
   "metadata": {
    "collapsed": false
   },
   "outputs": [],
   "source": [
    "with open('numerai_training_data.csv') as f_in, open('numerai_training_data.vw', 'w') as f_out:\n",
    "    header = next(f_in)\n",
    "    for line in f_in:\n",
    "        features, target = line.strip().rsplit(',', 1)\n",
    "        features, target = features.replace(',', ' '), 2 * int(target) - 1\n",
    "        line = \"{} |x {}\\n\".format(target, features)\n",
    "        f_out.write(line)\n"
   ]
  },
  {
   "cell_type": "code",
   "execution_count": 2,
   "metadata": {
    "collapsed": false
   },
   "outputs": [
    {
     "name": "stderr",
     "output_type": "stream",
     "text": [
      "Num weight bits = 18\n",
      "learning rate = 0.5\n",
      "initial_t = 0\n",
      "power_t = 0.5\n",
      "decay_learning_rate = 1\n",
      "creating cache_file = numerai_training_data.vw.cache\n",
      "Reading datafile = numerai_training_data.vw\n",
      "num sources = 1\n",
      "average  since         example        example  current  current  current\n",
      "loss     last          counter         weight    label  predict features\n",
      "0.693147 0.693147            1            1.0   1.0000   0.0000       51\n",
      "0.702250 0.711353            2            2.0  -1.0000   0.0361       51\n",
      "0.692608 0.682966            4            4.0   1.0000   0.0308       51\n",
      "0.697531 0.702455            8            8.0   1.0000   0.0659       51\n",
      "0.692737 0.687943           16           16.0   1.0000   0.0473       51\n",
      "0.689853 0.686970           32           32.0   1.0000   0.0768       51\n",
      "0.690615 0.691376           64           64.0   1.0000   0.1135       51\n",
      "0.684862 0.679109          128          128.0   1.0000   0.1704       51\n",
      "0.688580 0.692299          256          256.0   1.0000   0.0037       51\n",
      "0.691000 0.693420          512          512.0   1.0000   0.1375       51\n",
      "0.692395 0.693789         1024         1024.0   1.0000   0.2034       51\n",
      "0.693348 0.694301         2048         2048.0   1.0000  -0.0048       51\n",
      "0.695498 0.697648         4096         4096.0   1.0000   0.3704       51\n",
      "0.697369 0.699239         8192         8192.0   1.0000   0.4184       51\n",
      "0.701354 0.705339        16384        16384.0   1.0000   0.5981       51\n",
      "0.710879 0.720403        32768        32768.0  -1.0000  -0.3593       51\n",
      "0.718554 0.726229        65536        65536.0  -1.0000   0.9382       51\n",
      "0.726906 0.726906       131072       131072.0  -1.0000  -1.3754       51 h\n",
      "0.741395 0.755883       262144       262144.0   1.0000  -0.0345       51 h\n",
      "\n",
      "finished run\n",
      "number of examples per pass = 122916\n",
      "passes used = 4\n",
      "weighted example sum = 491664.000000\n",
      "weighted label sum = 4552.000000\n",
      "average loss = 0.726027 h\n",
      "best constant = 0.018517\n",
      "best constant's loss = 0.693104\n",
      "total feature number = 25074864\n"
     ]
    }
   ],
   "source": [
    "%%bash\n",
    "\n",
    "vw numerai_training_data.vw --loss_function logistic --passes 10 --cache --kill_cache"
   ]
  }
 ],
 "metadata": {
  "kernelspec": {
   "display_name": "Python 2",
   "language": "python",
   "name": "python2"
  },
  "language_info": {
   "codemirror_mode": {
    "name": "ipython",
    "version": 2
   },
   "file_extension": ".py",
   "mimetype": "text/x-python",
   "name": "python",
   "nbconvert_exporter": "python",
   "pygments_lexer": "ipython2",
   "version": "2.7.12"
  }
 },
 "nbformat": 4,
 "nbformat_minor": 2
}
