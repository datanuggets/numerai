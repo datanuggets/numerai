{
 "cells": [
  {
   "cell_type": "code",
   "execution_count": 1,
   "metadata": {
    "collapsed": false
   },
   "outputs": [],
   "source": [
    "with open('numerai_training_data.csv') as f_in, open('numerai_training_data.vw', 'w') as f_out:\n",
    "    header = next(f_in)\n",
    "    for line in f_in:\n",
    "        features, target = line.strip().rsplit(',', 1)\n",
    "        features, target = features.replace(',', ' '), 2 * int(target) - 1\n",
    "        line = \"{} |x {}\\n\".format(target, features)\n",
    "        f_out.write(line)\n"
   ]
  },
  {
   "cell_type": "code",
   "execution_count": 2,
   "metadata": {
    "collapsed": false
   },
   "outputs": [
    {
     "name": "stderr",
     "output_type": "stream",
     "text": [
      "Num weight bits = 18\n",
      "learning rate = 0.5\n",
      "initial_t = 0\n",
      "power_t = 0.5\n",
      "decay_learning_rate = 1\n",
      "using cache_file = numerai_training_data.vw.cache\n",
      "ignoring text input in favor of cache input\n",
      "num sources = 1\n",
      "average  since         example        example  current  current  current\n",
      "loss     last          counter         weight    label  predict features\n",
      "0.693147 0.693147            1            1.0   1.0000   0.0000       51\n",
      "0.702250 0.711353            2            2.0  -1.0000   0.0361       51\n",
      "0.692608 0.682966            4            4.0   1.0000   0.0308       51\n",
      "0.695023 0.697438            8            8.0   1.0000   0.0305       51\n",
      "0.692524 0.690026           16           16.0   1.0000   0.0484       51\n",
      "0.689117 0.685710           32           32.0   1.0000   0.1143       51\n",
      "0.689551 0.689985           64           64.0   1.0000   0.0790       51\n",
      "0.682459 0.675366          128          128.0   1.0000   0.2447       51\n",
      "0.689347 0.696236          256          256.0   1.0000   0.0429       51\n",
      "0.691418 0.693488          512          512.0   1.0000   0.1013       51\n",
      "0.694817 0.698217         1024         1024.0   1.0000   0.0378       51\n",
      "0.695135 0.695452         2048         2048.0   1.0000   0.0154       51\n",
      "0.696963 0.698791         4096         4096.0   1.0000  -0.2847       51\n",
      "0.699657 0.702351         8192         8192.0   1.0000  -0.2011       51\n",
      "0.702632 0.705607        16384        16384.0   1.0000  -0.3787       51\n",
      "0.709151 0.715670        32768        32768.0  -1.0000   0.4307       51\n",
      "0.717748 0.726345        65536        65536.0  -1.0000   0.8129       51\n",
      "0.727230 0.727230       131072       131072.0  -1.0000  -0.8950       51 h\n",
      "0.742641 0.758051       262144       262144.0   1.0000   1.8258       51 h\n",
      "\n",
      "finished run\n",
      "number of examples per pass = 122916\n",
      "passes used = 4\n",
      "weighted example sum = 491664.000000\n",
      "weighted label sum = 4552.000000\n",
      "average loss = 0.725839 h\n",
      "best constant = 0.018517\n",
      "best constant's loss = 0.693104\n",
      "total feature number = 25074864\n"
     ]
    }
   ],
   "source": [
    "%%bash\n",
    "\n",
    "vw numerai_training_data.vw --loss_function logistic --passes 10 --cache"
   ]
  }
 ],
 "metadata": {
  "kernelspec": {
   "display_name": "Python 2",
   "language": "python",
   "name": "python2"
  },
  "language_info": {
   "codemirror_mode": {
    "name": "ipython",
    "version": 2
   },
   "file_extension": ".py",
   "mimetype": "text/x-python",
   "name": "python",
   "nbconvert_exporter": "python",
   "pygments_lexer": "ipython2",
   "version": "2.7.12"
  }
 },
 "nbformat": 4,
 "nbformat_minor": 2
}
