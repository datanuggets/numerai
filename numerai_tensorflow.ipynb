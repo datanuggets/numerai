{
 "cells": [
  {
   "cell_type": "code",
   "execution_count": 5,
   "metadata": {
    "collapsed": false
   },
   "outputs": [],
   "source": [
    "df = pd.read_csv('numerai_training_data.csv')\n",
    "df.sample(5)\n",
    "\n",
    "data = {'X': df.drop('target', axis=1), 'y': df['target']}"
   ]
  },
  {
   "cell_type": "code",
   "execution_count": 56,
   "metadata": {
    "collapsed": false
   },
   "outputs": [
    {
     "name": "stdout",
     "output_type": "stream",
     "text": [
      "\n"
     ]
    }
   ],
   "source": [
    "import tensorflow as tf\n",
    "\n",
    "n_samples = data['X'].shape[0]\n",
    "n_features = data['X'].shape[1]\n",
    "n_hidden = 10\n",
    "\n",
    "\n",
    "X = tf.placeholder(dtype=tf.float32, shape=[None, n_features])\n",
    "y = tf.placeholder(dtype=tf.float32, shape=[None, 1])\n",
    "\n",
    "\n",
    "init = pd.Series()\n",
    "init['W1'] = tf.random_normal(seed=13, shape=[n_features, n_hidden], dtype=tf.float32, mean=0.0, stddev=np.sqrt(6.0 / n_features))\n",
    "init['b1'] = tf.random_normal(seed=13, shape=[n_hidden], dtype=tf.float32, mean=0.0, stddev=np.sqrt(6.0))\n",
    "init['W2'] = tf.random_normal(seed=13, shape=[n_hidden, 1], dtype=tf.float32, mean=0.0, stddev=np.sqrt(6.0 / n_features))\n",
    "init['b2'] = tf.random_normal(seed=13, shape=[1], dtype=tf.float32, mean=0.0, stddev=np.sqrt(6.0))\n",
    "\n",
    "\n",
    "W1 = tf.Variable(init['W1'])\n",
    "W2 = tf.Variable(init['W2'])\n",
    "b1 = tf.Variable(init['b1'])\n",
    "b2 = tf.Variable(init['b2'])\n",
    "\n",
    "\n",
    "\n",
    "\n",
    "A = tf.sigmoid(tf.matmul(X, W1) + b1)\n",
    "logits = tf.matmul(A, W2) + b2\n",
    "\n",
    "\n",
    "loss = tf.reduce_mean(tf.nn.sigmoid_cross_entropy_with_logits(logits, y))\n",
    "train = tf.train.AdamOptimizer(1e-3).minimize(loss)\n",
    "\n"
   ]
  },
  {
   "cell_type": "code",
   "execution_count": 57,
   "metadata": {
    "collapsed": false
   },
   "outputs": [
    {
     "name": "stdout",
     "output_type": "stream",
     "text": [
      "0.687927\n"
     ]
    }
   ],
   "source": [
    "from sklearn.model_selection import StratifiedKFold\n",
    "\n",
    "batches = [idx for _, idx in StratifiedKFold(n_splits=100, random_state=42).split(data['X'], data['y'])]\n",
    "n_epochs = 500\n",
    "\n",
    "with tf.Session() as s:\n",
    "    s.run(tf.global_variables_initializer())\n",
    "    for _ in xrange(n_epochs):\n",
    "        for idx in batches:\n",
    "            loss_ = s.run([loss, train], feed_dict={X: data['X'].iloc[idx], y: data['y'].iloc[idx].to_frame()})[0]\n",
    "        print '\\r', loss_,\n"
   ]
  }
 ],
 "metadata": {
  "kernelspec": {
   "display_name": "Python 2",
   "language": "python",
   "name": "python2"
  },
  "language_info": {
   "codemirror_mode": {
    "name": "ipython",
    "version": 2
   },
   "file_extension": ".py",
   "mimetype": "text/x-python",
   "name": "python",
   "nbconvert_exporter": "python",
   "pygments_lexer": "ipython2",
   "version": "2.7.12"
  }
 },
 "nbformat": 4,
 "nbformat_minor": 0
}
