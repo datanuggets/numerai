{
 "cells": [
  {
   "cell_type": "code",
   "execution_count": 1,
   "metadata": {
    "collapsed": false
   },
   "outputs": [
    {
     "name": "stdout",
     "output_type": "stream",
     "text": [
      "(136573, 50)\n"
     ]
    }
   ],
   "source": [
    "df = pd.read_csv('numerai_training_data.csv')\n",
    "df.sample(5)\n",
    "\n",
    "X = df.drop('target', axis=1)\n",
    "y = df['target']\n",
    "\n",
    "print X.shape"
   ]
  },
  {
   "cell_type": "code",
   "execution_count": 2,
   "metadata": {
    "collapsed": false
   },
   "outputs": [
    {
     "name": "stdout",
     "output_type": "stream",
     "text": [
      "[-0.69121732 -0.69219839 -0.69171326 -0.69104339]\n",
      "0.69154308969\n"
     ]
    }
   ],
   "source": [
    "from sklearn.linear_model import LogisticRegression\n",
    "from sklearn.model_selection import cross_val_score\n",
    "\n",
    "clf = LogisticRegression()\n",
    "\n",
    "scores = cross_val_score(clf, X, y, scoring='neg_log_loss', cv=4, n_jobs=4)\n",
    "print scores\n",
    "print -np.mean(scores)"
   ]
  },
  {
   "cell_type": "code",
   "execution_count": 3,
   "metadata": {
    "collapsed": false
   },
   "outputs": [
    {
     "name": "stdout",
     "output_type": "stream",
     "text": [
      "[-0.69176224 -0.69260348 -0.69211006 -0.69157048]\n",
      "0.692011566601\n"
     ]
    }
   ],
   "source": [
    "from xgboost import XGBClassifier\n",
    "\n",
    "clf = XGBClassifier(n_estimators=100)\n",
    "\n",
    "scores = cross_val_score(clf, X, y, scoring='neg_log_loss', cv=4, n_jobs=4)\n",
    "print scores\n",
    "print -np.mean(scores)"
   ]
  },
  {
   "cell_type": "code",
   "execution_count": 4,
   "metadata": {
    "collapsed": false
   },
   "outputs": [
    {
     "name": "stdout",
     "output_type": "stream",
     "text": [
      "[-0.69175972 -0.69270824 -0.69236938 -0.6916588 ]\n",
      "0.692124033941\n"
     ]
    }
   ],
   "source": [
    "from sklearn.ensemble import GradientBoostingClassifier\n",
    "\n",
    "clf = GradientBoostingClassifier(n_estimators=100)\n",
    "\n",
    "scores = cross_val_score(clf, X, y, scoring='neg_log_loss', cv=4, n_jobs=4)\n",
    "print scores\n",
    "print -np.mean(scores)"
   ]
  }
 ],
 "metadata": {
  "kernelspec": {
   "display_name": "Python 2",
   "language": "python",
   "name": "python2"
  },
  "language_info": {
   "codemirror_mode": {
    "name": "ipython",
    "version": 2
   },
   "file_extension": ".py",
   "mimetype": "text/x-python",
   "name": "python",
   "nbconvert_exporter": "python",
   "pygments_lexer": "ipython2",
   "version": "2.7.12"
  }
 },
 "nbformat": 4,
 "nbformat_minor": 2
}
